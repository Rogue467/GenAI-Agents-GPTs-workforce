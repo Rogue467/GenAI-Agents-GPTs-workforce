{
  "nbformat": 4,
  "nbformat_minor": 0,
  "metadata": {
    "colab": {
      "provenance": []
    },
    "kernelspec": {
      "name": "python3",
      "display_name": "Python 3"
    },
    "language_info": {
      "name": "python"
    }
  },
  "cells": [
    {
      "cell_type": "code",
      "execution_count": 1,
      "metadata": {
        "id": "21OW9xHhnIuj"
      },
      "outputs": [],
      "source": [
        "def summarize_transactions(transactions):\n",
        "    # Handle empty list case\n",
        "    if not transactions:\n",
        "        return {\n",
        "            \"total_amount\": 0.0,\n",
        "            \"average_amount\": 0.0,\n",
        "            \"transactions_per_category\": {}\n",
        "        }\n",
        "\n",
        "    # Initialize variables\n",
        "    total_amount = 0.0\n",
        "    transactions_per_category = {}\n",
        "\n",
        "    # Process each transaction\n",
        "    for transaction in transactions:\n",
        "        # Add to total amount\n",
        "        total_amount += transaction[\"amount\"]\n",
        "\n",
        "        # Count transactions per category\n",
        "        category = transaction[\"category\"]\n",
        "        if category in transactions_per_category:\n",
        "            transactions_per_category[category] += 1\n",
        "        else:\n",
        "            transactions_per_category[category] = 1\n",
        "\n",
        "    # Calculate average amount\n",
        "    average_amount = total_amount / len(transactions)\n",
        "\n",
        "    # Return summary dictionary\n",
        "    return {\n",
        "        \"total_amount\": total_amount,\n",
        "        \"average_amount\": average_amount,\n",
        "        \"transactions_per_category\": transactions_per_category\n",
        "    }"
      ]
    }
  ]
}